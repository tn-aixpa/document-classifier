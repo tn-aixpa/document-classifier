{
 "cells": [
  {
   "cell_type": "code",
   "execution_count": 1,
   "id": "c4439595-9c98-4fbe-85bc-9508056d2497",
   "metadata": {},
   "outputs": [],
   "source": [
    "import digitalhub as dh"
   ]
  },
  {
   "cell_type": "code",
   "execution_count": 2,
   "id": "1e6507b9-b26c-493e-a07f-203d260f670e",
   "metadata": {},
   "outputs": [],
   "source": [
    "proj = dh.get_or_create_project('family-audit')"
   ]
  },
  {
   "cell_type": "code",
   "execution_count": 4,
   "id": "6845517a-bd1b-4687-8968-54d8957c805a",
   "metadata": {},
   "outputs": [],
   "source": [
    "func = proj.new_function(\n",
    "    name=\"train\", \n",
    "    kind=\"python\", \n",
    "    python_version=\"PYTHON3_10\", \n",
    "    code_src=\"git+https://github.com/tn-aixpa/document-classifier\", \n",
    "    handler=\"src.train:train\",\n",
    "    requirements=[\"accelerate==1.1.1\", \"datasets==3.1.0\", \"torch==2.5.1\", \"torch_tensorrt==2.5.0\", \"torchmetrics==1.6.0\", \"torchtext==0.18.0\", \"transformer_engine==1.12.0\", \"transformer_engine_cu12==1.12.0\", \"transformers==4.46.3\", \"pandas==2.2.3\", \"numpy==2.1.3\", \"numpyencoder==0.3.0\", \"scikit-learn==1.5.2\", \"scipy==1.14.1\", \"GitPython==3.1.43\", \"attrs==24.2.0\", \"async-timeout==5.0.1\", \"aiosignal==1.3.1\", \"aiohappyeyeballs==2.4.4\", \"aiohttp==3.11.9\", \"Unidecode==1.3.8\"]\n",
    ")"
   ]
  },
  {
   "cell_type": "code",
   "execution_count": 5,
   "id": "ec41d81c-c7fb-4d69-922c-3ba009f1012e",
   "metadata": {},
   "outputs": [],
   "source": [
    "artifact = proj.get_artifact(\"train_data_it\")"
   ]
  },
  {
   "cell_type": "code",
   "execution_count": 6,
   "id": "25e582c3-83cb-4983-9d67-c368904fd4cd",
   "metadata": {},
   "outputs": [],
   "source": [
    "train_run = func.run(action=\"job\", inputs={\"train_data\": artifact.key}, parameters={\"data_path\": \"/data\", \"model_save_path\": \"/model\", \"target_model_name\": \"family_audit_model\"})"
   ]
  },
  {
   "cell_type": "code",
   "execution_count": 7,
   "id": "f3b7c01a-35b4-469f-9590-8721949e22bb",
   "metadata": {},
   "outputs": [
    {
     "data": {
      "text/plain": [
       "'RUNNING'"
      ]
     },
     "execution_count": 7,
     "metadata": {},
     "output_type": "execute_result"
    }
   ],
   "source": [
    "train_run.refresh().status.state"
   ]
  },
  {
   "cell_type": "code",
   "execution_count": null,
   "id": "fad00929-abc3-41f6-a0bb-7061c3f20038",
   "metadata": {},
   "outputs": [],
   "source": []
  }
 ],
 "metadata": {
  "kernelspec": {
   "display_name": "Python 3 (ipykernel)",
   "language": "python",
   "name": "python3"
  },
  "language_info": {
   "codemirror_mode": {
    "name": "ipython",
    "version": 3
   },
   "file_extension": ".py",
   "mimetype": "text/x-python",
   "name": "python",
   "nbconvert_exporter": "python",
   "pygments_lexer": "ipython3",
   "version": "3.10.11"
  }
 },
 "nbformat": 4,
 "nbformat_minor": 5
}
