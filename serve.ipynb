{
 "cells": [
  {
   "cell_type": "code",
   "execution_count": null,
   "id": "61d86fdf-bbb8-4476-b24f-b06e75c00cc3",
   "metadata": {},
   "outputs": [],
   "source": [
    "import digitalhub as dh"
   ]
  },
  {
   "cell_type": "code",
   "execution_count": null,
   "id": "5f0a415b-4098-4e76-82ac-d1c34f4242d8",
   "metadata": {},
   "outputs": [],
   "source": [
    "proj = dh.get_or_create_project('family-audit')"
   ]
  },
  {
   "cell_type": "code",
   "execution_count": null,
   "id": "56a2cdd6-f47e-4d34-bfd3-6c6870c6a82b",
   "metadata": {},
   "outputs": [],
   "source": [
    "func = proj.new_function(\n",
    "    name=\"serve\", \n",
    "    kind=\"python\", \n",
    "    python_version=\"PYTHON3_10\", \n",
    "    code_src=\"git+https://github.com/tn-aixpa/document-classifier\",     \n",
    "    handler=\"src.serve:serve\",\n",
    "    init_function=\"init\",\n",
    "    requirements=[\"numpy<2\", \"pandas==2.1.4\",\"transformer_engine==1.12.0\", \"transformer_engine_cu12==1.12.0\", \"transformers==4.46.3\", \"torch==2.5.1\", \"torchmetrics==1.6.0\"]\n",
    ")"
   ]
  },
  {
   "cell_type": "code",
   "execution_count": null,
   "id": "22738d9e-60ce-4774-819f-982e044ef82f",
   "metadata": {},
   "outputs": [],
   "source": [
    "serve_run = func.run(\n",
    "    action=\"serve\",\n",
    "    volumes=[{ \n",
    "            \"volume_type\": \"persistent_volume_claim\", \n",
    "            \"name\": \"family-audit\", \n",
    "            \"mount_path\": \"/files\", \n",
    "            \"spec\": { \"claim_name\": \"family-audit\" }\n",
    "        }]\n",
    ")"
   ]
  },
  {
   "cell_type": "code",
   "execution_count": null,
   "id": "5b43600c-ccab-4fe1-947a-31d8ba7bcfa2",
   "metadata": {},
   "outputs": [],
   "source": [
    "serve_run.refresh().status.state"
   ]
  },
  {
   "cell_type": "code",
   "execution_count": null,
   "id": "5238652d-50d0-416e-a22f-9d0204e5355c",
   "metadata": {},
   "outputs": [],
   "source": [
    "service = serve_run.refresh().status.service\n",
    "service"
   ]
  },
  {
   "cell_type": "code",
   "execution_count": null,
   "id": "3a1190f2-12b6-4957-a5e0-3b44af6271e6",
   "metadata": {},
   "outputs": [],
   "source": [
    "inputs = {\"text\": 'famiglia wifi ', \"k\": 1}\n",
    "inputs"
   ]
  },
  {
   "cell_type": "code",
   "execution_count": null,
   "id": "e9b74b58-1470-4fa3-9f47-fa116a523531",
   "metadata": {},
   "outputs": [],
   "source": [
    "serve_run.invoke(json={\"inference_input\": inputs}).text"
   ]
  }
 ],
 "metadata": {
  "kernelspec": {
   "display_name": "Python 3 (ipykernel)",
   "language": "python",
   "name": "python3"
  },
  "language_info": {
   "codemirror_mode": {
    "name": "ipython",
    "version": 3
   },
   "file_extension": ".py",
   "mimetype": "text/x-python",
   "name": "python",
   "nbconvert_exporter": "python",
   "pygments_lexer": "ipython3",
   "version": "3.10.11"
  }
 },
 "nbformat": 4,
 "nbformat_minor": 5
}
